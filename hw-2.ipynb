{
 "cells": [
  {
   "cell_type": "code",
   "execution_count": null,
   "metadata": {},
   "outputs": [],
   "source": [
    "import numpy as np\n",
    "import matplotlib.pyplot as plt"
   ]
  },
  {
   "cell_type": "code",
   "execution_count": null,
   "metadata": {},
   "outputs": [],
   "source": [
    "x = np.arange(0, 2*np.pi, .006283)            #x-range from 0 -> 2pi by incremnets of (2pi/1000)\n",
    "v = np.cos(2 * x)*5.5 + 5.5                   #funtion 1\n",
    "w = np.exp(x)*0.02                            #funtion 2\n",
    "z = np.sin(10 * x) * (.1) + (0.25 * (x**2))   #funtion 3\n",
    "plt.plot(x, z)\n",
    "plt.plot(x, w)\n",
    "plt.plot(x, v)\n",
    "plt.xlabel('Time in ASTR 119')\n",
    "plt.ylabel('Measure of Awesomeness')\n",
    "plt.xlim([0, 2*np.pi])\n",
    "plt.ylim([-1, 10])\n",
    "plt.show()"
   ]
  },
  {
   "cell_type": "code",
   "execution_count": null,
   "metadata": {},
   "outputs": [],
   "source": []
  }
 ],
 "metadata": {
  "kernelspec": {
   "display_name": "Python 3",
   "language": "python",
   "name": "python3"
  },
  "language_info": {
   "codemirror_mode": {
    "name": "ipython",
    "version": 3
   },
   "file_extension": ".py",
   "mimetype": "text/x-python",
   "name": "python",
   "nbconvert_exporter": "python",
   "pygments_lexer": "ipython3",
   "version": "3.6.5"
  }
 },
 "nbformat": 4,
 "nbformat_minor": 2
}
